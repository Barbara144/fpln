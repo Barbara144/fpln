{
 "cells": [
  {
   "cell_type": "markdown",
   "metadata": {},
   "source": [
    "# TPC Python "
   ]
  },
  {
   "cell_type": "code",
   "execution_count": 26,
   "metadata": {},
   "outputs": [],
   "source": [
    "ficheiro= open(\"Camilo-A_Brasileira_de_Prazins.md\", encoding=\"UTF-8\").read()"
   ]
  },
  {
   "cell_type": "markdown",
   "metadata": {},
   "source": [
    "#### Calcular o número de capítulos "
   ]
  },
  {
   "cell_type": "code",
   "execution_count": 27,
   "metadata": {},
   "outputs": [
    {
     "data": {
      "text/plain": [
       "27"
      ]
     },
     "execution_count": 27,
     "metadata": {},
     "output_type": "execute_result"
    }
   ],
   "source": [
    "texto_dividido=ficheiro.split (\"\\n\")\n",
    "nr_capitulos=0\n",
    "for linha in texto_dividido:\n",
    "    if \"#\" in linha:\n",
    "        nr_capitulos=nr_capitulos +1\n",
    "\n",
    "contador"
   ]
  },
  {
   "cell_type": "markdown",
   "metadata": {},
   "source": [
    "#### Escrever o indíce dos capitulos para txt"
   ]
  },
  {
   "cell_type": "code",
   "execution_count": 34,
   "metadata": {},
   "outputs": [],
   "source": [
    "capitulos_txt=\"\"\n",
    "for linha in texto_dividido:\n",
    "    if \"#\" in linha: \n",
    "        capitulos_txt=capitulos_txt + \"\\n\" + linha\n",
    "\n",
    "cap_ficheiro= open(\"capitulos.txt\", \"w\")\n",
    "cap_ficheiro.write(capitulos_txt)\n",
    "cap_ficheiro.close()"
   ]
  },
  {
   "cell_type": "markdown",
   "metadata": {},
   "source": [
    "#### Calcular o número de ocorrências de palavras minúsculas"
   ]
  },
  {
   "cell_type": "code",
   "execution_count": 24,
   "metadata": {},
   "outputs": [
    {
     "data": {
      "text/plain": [
       "51687"
      ]
     },
     "execution_count": 24,
     "metadata": {},
     "output_type": "execute_result"
    }
   ],
   "source": [
    "lista_palavras=ficheiro.split( )\n",
    "nr_minusculas=0\n",
    "for palavra in lista_palavras:\n",
    "    if palavra.islower():\n",
    "        nr_minusculas=nr_minusculas+1\n",
    "        \n",
    "nr_minusculas"
   ]
  },
  {
   "cell_type": "markdown",
   "metadata": {},
   "source": [
    "#### Calcular número de frases"
   ]
  },
  {
   "cell_type": "code",
   "execution_count": 40,
   "metadata": {},
   "outputs": [
    {
     "data": {
      "text/plain": [
       "3722"
      ]
     },
     "execution_count": 40,
     "metadata": {},
     "output_type": "execute_result"
    }
   ],
   "source": [
    "import re\n",
    "\n",
    "\n",
    "frases = re.split(r'(?<=[.!?])\\s', ficheiro)\n",
    "nr_frases=0\n",
    "for frase in frases:\n",
    "    nr_frases= nr_frases +1 \n",
    "nr_frases"
   ]
  },
  {
   "cell_type": "markdown",
   "metadata": {},
   "source": [
    "#### Calcular o número de ocorrências da pontuação "
   ]
  },
  {
   "cell_type": "code",
   "execution_count": 44,
   "metadata": {},
   "outputs": [
    {
     "data": {
      "text/plain": [
       "9833"
      ]
     },
     "execution_count": 44,
     "metadata": {},
     "output_type": "execute_result"
    }
   ],
   "source": [
    "pontuacao= \".,?!:;\"\n",
    "nr_pontuacao=0\n",
    "for letra in ficheiro:\n",
    "    if letra in pontuacao:\n",
    "        nr_pontuacao=nr_pontuacao +1 \n",
    "nr_pontuacao"
   ]
  },
  {
   "cell_type": "markdown",
   "metadata": {},
   "source": [
    "#### Calcular o comprimento médio da frase "
   ]
  },
  {
   "cell_type": "code",
   "execution_count": 49,
   "metadata": {},
   "outputs": [
    {
     "data": {
      "text/plain": [
       "15.941966684578183"
      ]
     },
     "execution_count": 49,
     "metadata": {},
     "output_type": "execute_result"
    }
   ],
   "source": [
    "lista_frases= []\n",
    "for frase in frases:\n",
    "    palavras=frase.split()\n",
    "    lista_frases.append(len(palavras))\n",
    "\n",
    "sum(lista_frases)/len(lista_frases)"
   ]
  },
  {
   "cell_type": "markdown",
   "metadata": {},
   "source": [
    "#### Extra: Calcular o número de palavras por capítulos"
   ]
  },
  {
   "cell_type": "code",
   "execution_count": 75,
   "metadata": {},
   "outputs": [
    {
     "data": {
      "text/plain": [
       "'--- -> 285\\nINTRODUÇÃO -> 13212\\nI -> 9503\\nII -> 9425\\nIII -> 19248\\nIV -> 24686\\nV -> 9114\\nVI -> 11874\\nVII -> 13538\\nVIII -> 12243\\nIX -> 16992\\nX -> 29633\\nXI -> 19999\\nXII -> 13030\\nXIII -> 15598\\nXIV -> 19332\\nXV -> 26990\\nXVI -> 16156\\nXVII -> 11769\\nXVIII -> 16263\\nXIX -> 14131\\nXX -> 9768\\nCONCLUSÃO -> 9128\\nP. -> 2608\\n'"
      ]
     },
     "execution_count": 75,
     "metadata": {},
     "output_type": "execute_result"
    }
   ],
   "source": [
    "lista_palavras_cap=ficheiro.split(\"#\")\n",
    "texto_lista_palavras_cap= \"\"\n",
    "for capitulo in lista_palavras_cap: \n",
    "    texto_lista_palavras_cap = texto_lista_palavras_cap + capitulo.split()[0] + \" -> \" + str(len(capitulo))+ \"\\n\"\n",
    "\n",
    "lista_palavras_cap_ficheiro= open(\"lista_palavras_capitulo.txt\", \"w\")\n",
    "lista_palavras_cap_ficheiro.write(texto_lista_palavras_cap)\n",
    "lista_palavras_cap_ficheiro.close()\n",
    "texto_lista_palavras_cap\n"
   ]
  },
  {
   "cell_type": "markdown",
   "metadata": {},
   "source": [
    "#### Extra: Calcular o número de frases por capítulos"
   ]
  },
  {
   "cell_type": "code",
   "execution_count": 76,
   "metadata": {},
   "outputs": [
    {
     "data": {
      "text/plain": [
       "'--- -> 1\\nINTRODUÇÃO -> 129\\nI -> 90\\nII -> 102\\nIII -> 180\\nIV -> 268\\nV -> 120\\nVI -> 182\\nVII -> 202\\nVIII -> 204\\nIX -> 239\\nX -> 329\\nXI -> 288\\nXII -> 94\\nXIII -> 124\\nXIV -> 180\\nXV -> 256\\nXVI -> 167\\nXVII -> 114\\nXVIII -> 126\\nXIX -> 163\\nXX -> 88\\nCONCLUSÃO -> 76\\nP. -> 23\\n'"
      ]
     },
     "execution_count": 76,
     "metadata": {},
     "output_type": "execute_result"
    }
   ],
   "source": [
    "texto_lista_frases_cap= \"\"\n",
    "for capitulo in lista_palavras_cap: \n",
    "    texto_lista_frases = re.split(r'(?<=[.!?])\\s', capitulo)\n",
    "    texto_lista_frases_cap = texto_lista_frases_cap + capitulo.split()[0] + \" -> \" + str(len(texto_lista_frases))+ \"\\n\"\n",
    "\n",
    "lista_frases_cap_ficheiro= open(\"lista_frases_capitulo.txt\", \"w\")\n",
    "lista_frases_cap_ficheiro.write(texto_lista_frases_cap)\n",
    "lista_frases_cap_ficheiro.close()\n",
    "texto_lista_frases_cap"
   ]
  }
 ],
 "metadata": {
  "kernelspec": {
   "display_name": "Python 3",
   "language": "python",
   "name": "python3"
  },
  "language_info": {
   "codemirror_mode": {
    "name": "ipython",
    "version": 3
   },
   "file_extension": ".py",
   "mimetype": "text/x-python",
   "name": "python",
   "nbconvert_exporter": "python",
   "pygments_lexer": "ipython3",
   "version": "3.12.0"
  }
 },
 "nbformat": 4,
 "nbformat_minor": 2
}
